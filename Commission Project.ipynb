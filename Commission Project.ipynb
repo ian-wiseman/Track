{
 "cells": [
  {
   "cell_type": "code",
   "execution_count": 31,
   "metadata": {},
   "outputs": [],
   "source": [
    "class Organization():\n",
    "    def __init__(self, org_name):\n",
    "        self.org_name = org_name\n",
    "        self.org_size = 0\n",
    "        self.org_revenue = 0\n",
    "        self.num_placements = 0\n",
    "        self.employees = []\n",
    "    \n",
    "    def add_employee(self, employee_name, commission_rate):\n",
    "        employee = Employee(employee_name, commission_rate)\n",
    "        self.employees.append(employee)\n",
    "        self.org_size += 1\n",
    "        return employee\n",
    "    \n",
    "    def get_org_size(self):\n",
    "        return self.org_size\n",
    "    \n",
    "    def make_placement(self, client_finder, client_owner, candidate_finder, candidate_owner, revenue):\n",
    "        client_finder.total_commission += client_finder.commission_rate *  revenue\n",
    "        client_owner.total_commission += client_owner.commission_rate * revenue\n",
    "        candidate_finder.total_commission += candidate_finder.commission_rate * revenue\n",
    "        candidate_owner.total_commission += candidate_owner.commission_rate * revenue\n",
    "        self.org_revenue += revenue\n",
    "        self.num_placements += 1\n",
    "\n",
    "class Employee():\n",
    "    def __init__(self, employee_name, commission_rate):\n",
    "        self.employee_name = employee_name\n",
    "        self.commission_rate = commission_rate * 0.01\n",
    "        self.total_commission = 0\n",
    "        \n",
    "        \n",
    "\n",
    "Team = Organization(\"My Sales Team\")\n",
    "Bob = Team.add_employee(\"Bob\", 15)\n"
   ]
  },
  {
   "cell_type": "code",
   "execution_count": 32,
   "metadata": {},
   "outputs": [
    {
     "data": {
      "text/plain": [
       "'Rachel has been added as a new employee'"
      ]
     },
     "execution_count": 32,
     "metadata": {},
     "output_type": "execute_result"
    }
   ],
   "source": [
    "Rachel = Team.add_employee(\"Rachel\", 10)\n",
    "\"Rachel has been added as a new employee\""
   ]
  },
  {
   "cell_type": "code",
   "execution_count": 33,
   "metadata": {},
   "outputs": [],
   "source": [
    "Team.make_placement(Bob, Rachel, Bob, Rachel, 1000)"
   ]
  },
  {
   "cell_type": "code",
   "execution_count": 34,
   "metadata": {},
   "outputs": [
    {
     "name": "stdout",
     "output_type": "stream",
     "text": [
      "After this placement, Bob's commission is $300.0 and Rachel's commission is $200.0\n"
     ]
    }
   ],
   "source": [
    "print(f\"After this placement, Bob's commission is ${Bob.total_commission} and Rachel's commission is ${Rachel.total_commission}\")\n"
   ]
  },
  {
   "cell_type": "code",
   "execution_count": 35,
   "metadata": {},
   "outputs": [
    {
     "name": "stdout",
     "output_type": "stream",
     "text": [
      "My Sales Team now has 2 employees, 1 placement and $1000 in revenue!\n"
     ]
    }
   ],
   "source": [
    "print(f\"{Team.org_name} now has {Team.org_size} employees, {Team.num_placements} placement and ${Team.org_revenue} in revenue!\")"
   ]
  },
  {
   "cell_type": "code",
   "execution_count": null,
   "metadata": {},
   "outputs": [],
   "source": []
  }
 ],
 "metadata": {
  "kernelspec": {
   "display_name": "Python 3",
   "language": "python",
   "name": "python3"
  },
  "language_info": {
   "codemirror_mode": {
    "name": "ipython",
    "version": 3
   },
   "file_extension": ".py",
   "mimetype": "text/x-python",
   "name": "python",
   "nbconvert_exporter": "python",
   "pygments_lexer": "ipython3",
   "version": "3.7.7"
  }
 },
 "nbformat": 4,
 "nbformat_minor": 4
}
